{
 "cells": [
  {
   "cell_type": "code",
   "execution_count": 1,
   "metadata": {},
   "outputs": [
    {
     "name": "stderr",
     "output_type": "stream",
     "text": [
      "WARNING:root:OSError while attempting to symlink the latest log directory\n"
     ]
    },
    {
     "data": {
      "text/html": [
       "<pre style=\"white-space:pre;overflow-x:auto;line-height:normal;font-family:Menlo,'DejaVu Sans Mono',consolas,'Courier New',monospace\"><span style=\"color: #808000; text-decoration-color: #808000; font-weight: bold\">c:\\Users\\11kik\\anaconda3\\envs\\airflow_project\\lib\\site-packages\\airflow\\models\\base.py:</span><span style=\"color: #808000; text-decoration-color: #808000; font-weight: bold\">49</span><span style=\"color: #808000; text-decoration-color: #808000; font-weight: bold\"> MovedIn20Warning</span><span style=\"color: #808000; text-decoration-color: #808000\">: Deprecated API features detected! These </span><span style=\"color: #808000; text-decoration-color: #808000; font-weight: bold\">feature(</span><span style=\"color: #808000; text-decoration-color: #808000\">s</span><span style=\"color: #808000; text-decoration-color: #808000; font-weight: bold\">)</span><span style=\"color: #808000; text-decoration-color: #808000\"> are not compatible with SQLAlchemy </span><span style=\"color: #808000; text-decoration-color: #808000; font-weight: bold\">2.0</span><span style=\"color: #808000; text-decoration-color: #808000\">. To prevent incompatible upgrades prior to updating applications, ensure requirements files are pinned to </span><span style=\"color: #808000; text-decoration-color: #808000\">\"sqlalchemy&lt;2.0\"</span><span style=\"color: #808000; text-decoration-color: #808000\">. Set environment variable </span><span style=\"color: #808000; text-decoration-color: #808000\">SQLALCHEMY_WARN_20</span><span style=\"color: #808000; text-decoration-color: #808000\">=</span><span style=\"color: #808000; text-decoration-color: #808000; font-weight: bold\">1</span><span style=\"color: #808000; text-decoration-color: #808000\"> to show all deprecation warnings.  Set environment variable </span><span style=\"color: #808000; text-decoration-color: #808000\">SQLALCHEMY_SILENCE_UBER_WARNING</span><span style=\"color: #808000; text-decoration-color: #808000\">=</span><span style=\"color: #808000; text-decoration-color: #808000; font-weight: bold\">1</span><span style=\"color: #808000; text-decoration-color: #808000\"> to silence this message. </span><span style=\"color: #808000; text-decoration-color: #808000; font-weight: bold\">(</span><span style=\"color: #808000; text-decoration-color: #808000\">Background on SQLAlchemy </span><span style=\"color: #808000; text-decoration-color: #808000; font-weight: bold\">2.0</span><span style=\"color: #808000; text-decoration-color: #808000\"> at: </span><span style=\"color: #808000; text-decoration-color: #808000; text-decoration: underline\">https://sqlalche.me/e/b8d9)</span>\n",
       "</pre>\n"
      ],
      "text/plain": [
       "\u001b[1;33mc:\\Users\\11kik\\anaconda3\\envs\\airflow_project\\lib\\site-packages\\airflow\\models\\base.py:\u001b[0m\u001b[1;33m49\u001b[0m\u001b[1;33m MovedIn20Warning\u001b[0m\u001b[33m: Deprecated API features detected! These \u001b[0m\u001b[1;33mfeature\u001b[0m\u001b[1;33m(\u001b[0m\u001b[33ms\u001b[0m\u001b[1;33m)\u001b[0m\u001b[33m are not compatible with SQLAlchemy \u001b[0m\u001b[1;33m2.0\u001b[0m\u001b[33m. To prevent incompatible upgrades prior to updating applications, ensure requirements files are pinned to \u001b[0m\u001b[33m\"sqlalchemy<2.0\"\u001b[0m\u001b[33m. Set environment variable \u001b[0m\u001b[33mSQLALCHEMY_WARN_20\u001b[0m\u001b[33m=\u001b[0m\u001b[1;33m1\u001b[0m\u001b[33m to show all deprecation warnings.  Set environment variable \u001b[0m\u001b[33mSQLALCHEMY_SILENCE_UBER_WARNING\u001b[0m\u001b[33m=\u001b[0m\u001b[1;33m1\u001b[0m\u001b[33m to silence this message. \u001b[0m\u001b[1;33m(\u001b[0m\u001b[33mBackground on SQLAlchemy \u001b[0m\u001b[1;33m2.0\u001b[0m\u001b[33m at: \u001b[0m\u001b[4;33mhttps://sqlalche.me/e/b8d9\u001b[0m\u001b[4;33m)\u001b[0m\n"
      ]
     },
     "metadata": {},
     "output_type": "display_data"
    },
    {
     "data": {
      "text/html": [
       "<pre style=\"white-space:pre;overflow-x:auto;line-height:normal;font-family:Menlo,'DejaVu Sans Mono',consolas,'Courier New',monospace\"><span style=\"color: #808000; text-decoration-color: #808000; font-weight: bold\">C:\\Users\\11kik\\AppData\\Local\\Temp\\ipykernel_24244\\</span><span style=\"color: #808000; text-decoration-color: #808000; font-weight: bold\">15684558.</span><span style=\"color: #808000; text-decoration-color: #808000; font-weight: bold\">py:</span><span style=\"color: #808000; text-decoration-color: #808000; font-weight: bold\">3</span><span style=\"color: #808000; text-decoration-color: #808000; font-weight: bold\"> DeprecationWarning</span><span style=\"color: #808000; text-decoration-color: #808000\">: The `airflow.operators.python_operator.PythonOperator` class is deprecated. Please use `</span><span style=\"color: #808000; text-decoration-color: #808000\">'airflow.operators.python.PythonOperator'</span><span style=\"color: #808000; text-decoration-color: #808000\">`.</span>\n",
       "</pre>\n"
      ],
      "text/plain": [
       "\u001b[1;33mC:\\Users\\11kik\\AppData\\Local\\Temp\\ipykernel_24244\\\u001b[0m\u001b[1;33m15684558.\u001b[0m\u001b[1;33mpy:\u001b[0m\u001b[1;33m3\u001b[0m\u001b[1;33m DeprecationWarning\u001b[0m\u001b[33m: The `airflow.operators.python_operator.PythonOperator` class is deprecated. Please use `\u001b[0m\u001b[33m'airflow.operators.python.PythonOperator'\u001b[0m\u001b[33m`.\u001b[0m\n"
      ]
     },
     "metadata": {},
     "output_type": "display_data"
    }
   ],
   "source": [
    "from datetime import datetime\n",
    "from airflow import DAG\n",
    "from airflow.operators.python_operator import PythonOperator\n",
    "from sqlalchemy import create_engine"
   ]
  },
  {
   "cell_type": "code",
   "execution_count": 2,
   "metadata": {},
   "outputs": [],
   "source": [
    "# Set up the connection to the database\n",
    "engine = create_engine('sqlite:///mydatabase.db')\n",
    "\n",
    "def print_time_and_store_in_db(**kwargs):\n",
    "    # Get the current time and format it as a string\n",
    "    now = datetime.now()\n",
    "    formatted_time = now.strftime('%Y.%m.%d %H:%M:%S')\n",
    "    \n",
    "    # Print the current time\n",
    "    print(f'Current Time: {formatted_time}')\n",
    "    \n",
    "    # Store the current time in the database\n",
    "    job_number = kwargs['ti'].job_id.split('_')[-1]\n",
    "    query = f\"INSERT INTO mytable (job_number, job_output, job_executed_at) VALUES ({job_number}, '{formatted_time}', '{formatted_time}')\"\n",
    "    engine.execute(query)"
   ]
  },
  {
   "cell_type": "code",
   "execution_count": 3,
   "metadata": {},
   "outputs": [
    {
     "data": {
      "text/html": [
       "<pre style=\"white-space:pre;overflow-x:auto;line-height:normal;font-family:Menlo,'DejaVu Sans Mono',consolas,'Courier New',monospace\"><span style=\"color: #808000; text-decoration-color: #808000; font-weight: bold\">C:\\Users\\11kik\\AppData\\Local\\Temp\\ipykernel_24244\\</span><span style=\"color: #808000; text-decoration-color: #808000; font-weight: bold\">662313835.</span><span style=\"color: #808000; text-decoration-color: #808000; font-weight: bold\">py:</span><span style=\"color: #808000; text-decoration-color: #808000; font-weight: bold\">7</span><span style=\"color: #808000; text-decoration-color: #808000; font-weight: bold\"> RemovedInAirflow3Warning</span><span style=\"color: #808000; text-decoration-color: #808000\">: Param `schedule_interval` is deprecated and will be removed in a future release. Please use `schedule` instead.</span>\n",
       "</pre>\n"
      ],
      "text/plain": [
       "\u001b[1;33mC:\\Users\\11kik\\AppData\\Local\\Temp\\ipykernel_24244\\\u001b[0m\u001b[1;33m662313835.\u001b[0m\u001b[1;33mpy:\u001b[0m\u001b[1;33m7\u001b[0m\u001b[1;33m RemovedInAirflow3Warning\u001b[0m\u001b[33m: Param `schedule_interval` is deprecated and will be removed in a future release. Please use `schedule` instead.\u001b[0m\n"
      ]
     },
     "metadata": {},
     "output_type": "display_data"
    },
    {
     "data": {
      "text/html": [
       "<pre style=\"white-space:pre;overflow-x:auto;line-height:normal;font-family:Menlo,'DejaVu Sans Mono',consolas,'Courier New',monospace\"><span style=\"color: #808000; text-decoration-color: #808000; font-weight: bold\">C:\\Users\\11kik\\AppData\\Local\\Temp\\ipykernel_24244\\</span><span style=\"color: #808000; text-decoration-color: #808000; font-weight: bold\">662313835.</span><span style=\"color: #808000; text-decoration-color: #808000; font-weight: bold\">py:</span><span style=\"color: #808000; text-decoration-color: #808000; font-weight: bold\">14</span><span style=\"color: #808000; text-decoration-color: #808000; font-weight: bold\"> RemovedInAirflow3Warning</span><span style=\"color: #808000; text-decoration-color: #808000\">: provide_context is deprecated as of </span><span style=\"color: #808000; text-decoration-color: #808000; font-weight: bold\">2.0</span><span style=\"color: #808000; text-decoration-color: #808000\"> and is no longer required</span>\n",
       "</pre>\n"
      ],
      "text/plain": [
       "\u001b[1;33mC:\\Users\\11kik\\AppData\\Local\\Temp\\ipykernel_24244\\\u001b[0m\u001b[1;33m662313835.\u001b[0m\u001b[1;33mpy:\u001b[0m\u001b[1;33m14\u001b[0m\u001b[1;33m RemovedInAirflow3Warning\u001b[0m\u001b[33m: provide_context is deprecated as of \u001b[0m\u001b[1;33m2.0\u001b[0m\u001b[33m and is no longer required\u001b[0m\n"
      ]
     },
     "metadata": {},
     "output_type": "display_data"
    },
    {
     "ename": "AirflowException",
     "evalue": "DAG is missing the start_date parameter",
     "output_type": "error",
     "traceback": [
      "\u001b[1;31m---------------------------------------------------------------------------\u001b[0m",
      "\u001b[1;31mAirflowException\u001b[0m                          Traceback (most recent call last)",
      "Cell \u001b[1;32mIn[3], line 14\u001b[0m\n\u001b[0;32m      7\u001b[0m dag \u001b[39m=\u001b[39m DAG(\n\u001b[0;32m      8\u001b[0m     dag_id\u001b[39m=\u001b[39m\u001b[39m'\u001b[39m\u001b[39mmy_dag\u001b[39m\u001b[39m'\u001b[39m,\n\u001b[0;32m      9\u001b[0m     default_args\u001b[39m=\u001b[39mdefault_args,\n\u001b[0;32m     10\u001b[0m     schedule_interval\u001b[39m=\u001b[39m\u001b[39m'\u001b[39m\u001b[39m@hourly\u001b[39m\u001b[39m'\u001b[39m,  \u001b[39m# Run once every hour\u001b[39;00m\n\u001b[0;32m     11\u001b[0m )\n\u001b[0;32m     13\u001b[0m \u001b[39m# Create a PythonOperator task that calls your function\u001b[39;00m\n\u001b[1;32m---> 14\u001b[0m task \u001b[39m=\u001b[39m PythonOperator(\n\u001b[0;32m     15\u001b[0m     task_id\u001b[39m=\u001b[39;49m\u001b[39m'\u001b[39;49m\u001b[39mprint_time_and_store_in_db\u001b[39;49m\u001b[39m'\u001b[39;49m,\n\u001b[0;32m     16\u001b[0m     python_callable\u001b[39m=\u001b[39;49mprint_time_and_store_in_db,\n\u001b[0;32m     17\u001b[0m     provide_context\u001b[39m=\u001b[39;49m\u001b[39mTrue\u001b[39;49;00m,\n\u001b[0;32m     18\u001b[0m     dag\u001b[39m=\u001b[39;49mdag,\n\u001b[0;32m     19\u001b[0m )\n",
      "File \u001b[1;32mc:\\Users\\11kik\\anaconda3\\envs\\airflow_project\\lib\\site-packages\\airflow\\models\\baseoperator.py:394\u001b[0m, in \u001b[0;36mBaseOperatorMeta._apply_defaults.<locals>.apply_defaults\u001b[1;34m(self, *args, **kwargs)\u001b[0m\n\u001b[0;32m    391\u001b[0m     \u001b[39mself\u001b[39m\u001b[39m.\u001b[39m_BaseOperator__init_kwargs \u001b[39m=\u001b[39m {}\n\u001b[0;32m    392\u001b[0m \u001b[39mself\u001b[39m\u001b[39m.\u001b[39m_BaseOperator__from_mapped \u001b[39m=\u001b[39m instantiated_from_mapped\n\u001b[1;32m--> 394\u001b[0m result \u001b[39m=\u001b[39m func(\u001b[39mself\u001b[39m, \u001b[39m*\u001b[39m\u001b[39m*\u001b[39mkwargs, default_args\u001b[39m=\u001b[39mdefault_args)\n\u001b[0;32m    396\u001b[0m \u001b[39m# Store the args passed to init -- we need them to support task.map serialzation!\u001b[39;00m\n\u001b[0;32m    397\u001b[0m \u001b[39mself\u001b[39m\u001b[39m.\u001b[39m_BaseOperator__init_kwargs\u001b[39m.\u001b[39mupdate(kwargs)  \u001b[39m# type: ignore\u001b[39;00m\n",
      "File \u001b[1;32mc:\\Users\\11kik\\anaconda3\\envs\\airflow_project\\lib\\site-packages\\airflow\\operators\\python.py:160\u001b[0m, in \u001b[0;36mPythonOperator.__init__\u001b[1;34m(self, python_callable, op_args, op_kwargs, templates_dict, templates_exts, show_return_value_in_logs, **kwargs)\u001b[0m\n\u001b[0;32m    154\u001b[0m     warnings\u001b[39m.\u001b[39mwarn(\n\u001b[0;32m    155\u001b[0m         \u001b[39m\"\u001b[39m\u001b[39mprovide_context is deprecated as of 2.0 and is no longer required\u001b[39m\u001b[39m\"\u001b[39m,\n\u001b[0;32m    156\u001b[0m         RemovedInAirflow3Warning,\n\u001b[0;32m    157\u001b[0m         stacklevel\u001b[39m=\u001b[39m\u001b[39m2\u001b[39m,\n\u001b[0;32m    158\u001b[0m     )\n\u001b[0;32m    159\u001b[0m     kwargs\u001b[39m.\u001b[39mpop(\u001b[39m\"\u001b[39m\u001b[39mprovide_context\u001b[39m\u001b[39m\"\u001b[39m, \u001b[39mNone\u001b[39;00m)\n\u001b[1;32m--> 160\u001b[0m \u001b[39msuper\u001b[39m()\u001b[39m.\u001b[39m\u001b[39m__init__\u001b[39m(\u001b[39m*\u001b[39m\u001b[39m*\u001b[39mkwargs)\n\u001b[0;32m    161\u001b[0m \u001b[39mif\u001b[39;00m \u001b[39mnot\u001b[39;00m callable(python_callable):\n\u001b[0;32m    162\u001b[0m     \u001b[39mraise\u001b[39;00m AirflowException(\u001b[39m\"\u001b[39m\u001b[39m`python_callable` param must be callable\u001b[39m\u001b[39m\"\u001b[39m)\n",
      "File \u001b[1;32mc:\\Users\\11kik\\anaconda3\\envs\\airflow_project\\lib\\site-packages\\airflow\\models\\baseoperator.py:394\u001b[0m, in \u001b[0;36mBaseOperatorMeta._apply_defaults.<locals>.apply_defaults\u001b[1;34m(self, *args, **kwargs)\u001b[0m\n\u001b[0;32m    391\u001b[0m     \u001b[39mself\u001b[39m\u001b[39m.\u001b[39m_BaseOperator__init_kwargs \u001b[39m=\u001b[39m {}\n\u001b[0;32m    392\u001b[0m \u001b[39mself\u001b[39m\u001b[39m.\u001b[39m_BaseOperator__from_mapped \u001b[39m=\u001b[39m instantiated_from_mapped\n\u001b[1;32m--> 394\u001b[0m result \u001b[39m=\u001b[39m func(\u001b[39mself\u001b[39m, \u001b[39m*\u001b[39m\u001b[39m*\u001b[39mkwargs, default_args\u001b[39m=\u001b[39mdefault_args)\n\u001b[0;32m    396\u001b[0m \u001b[39m# Store the args passed to init -- we need them to support task.map serialzation!\u001b[39;00m\n\u001b[0;32m    397\u001b[0m \u001b[39mself\u001b[39m\u001b[39m.\u001b[39m_BaseOperator__init_kwargs\u001b[39m.\u001b[39mupdate(kwargs)  \u001b[39m# type: ignore\u001b[39;00m\n",
      "File \u001b[1;32mc:\\Users\\11kik\\anaconda3\\envs\\airflow_project\\lib\\site-packages\\airflow\\models\\baseoperator.py:874\u001b[0m, in \u001b[0;36mBaseOperator.__init__\u001b[1;34m(self, task_id, owner, email, email_on_retry, email_on_failure, retries, retry_delay, retry_exponential_backoff, max_retry_delay, start_date, end_date, depends_on_past, ignore_first_depends_on_past, wait_for_downstream, dag, params, default_args, priority_weight, weight_rule, queue, pool, pool_slots, sla, execution_timeout, on_execute_callback, on_failure_callback, on_success_callback, on_retry_callback, pre_execute, post_execute, trigger_rule, resources, run_as_user, task_concurrency, max_active_tis_per_dag, executor_config, do_xcom_push, inlets, outlets, task_group, doc, doc_md, doc_json, doc_yaml, doc_rst, **kwargs)\u001b[0m\n\u001b[0;32m    871\u001b[0m \u001b[39mself\u001b[39m\u001b[39m.\u001b[39mdownstream_task_ids: \u001b[39mset\u001b[39m[\u001b[39mstr\u001b[39m] \u001b[39m=\u001b[39m \u001b[39mset\u001b[39m()\n\u001b[0;32m    873\u001b[0m \u001b[39mif\u001b[39;00m dag:\n\u001b[1;32m--> 874\u001b[0m     \u001b[39mself\u001b[39m\u001b[39m.\u001b[39mdag \u001b[39m=\u001b[39m dag\n\u001b[0;32m    876\u001b[0m \u001b[39mself\u001b[39m\u001b[39m.\u001b[39m_log \u001b[39m=\u001b[39m logging\u001b[39m.\u001b[39mgetLogger(\u001b[39m\"\u001b[39m\u001b[39mairflow.task.operators\u001b[39m\u001b[39m\"\u001b[39m)\n\u001b[0;32m    878\u001b[0m \u001b[39m# Lineage\u001b[39;00m\n",
      "File \u001b[1;32mc:\\Users\\11kik\\anaconda3\\envs\\airflow_project\\lib\\site-packages\\airflow\\models\\baseoperator.py:981\u001b[0m, in \u001b[0;36mBaseOperator.__setattr__\u001b[1;34m(self, key, value)\u001b[0m\n\u001b[0;32m    980\u001b[0m \u001b[39mdef\u001b[39;00m \u001b[39m__setattr__\u001b[39m(\u001b[39mself\u001b[39m, key, value):\n\u001b[1;32m--> 981\u001b[0m     \u001b[39msuper\u001b[39;49m()\u001b[39m.\u001b[39;49m\u001b[39m__setattr__\u001b[39;49m(key, value)\n\u001b[0;32m    982\u001b[0m     \u001b[39mif\u001b[39;00m \u001b[39mself\u001b[39m\u001b[39m.\u001b[39m__from_mapped \u001b[39mor\u001b[39;00m \u001b[39mself\u001b[39m\u001b[39m.\u001b[39m_lock_for_execution:\n\u001b[0;32m    983\u001b[0m         \u001b[39mreturn\u001b[39;00m  \u001b[39m# Skip any custom behavior for validation and during execute.\u001b[39;00m\n",
      "File \u001b[1;32mc:\\Users\\11kik\\anaconda3\\envs\\airflow_project\\lib\\site-packages\\airflow\\models\\baseoperator.py:1039\u001b[0m, in \u001b[0;36mBaseOperator.dag\u001b[1;34m(self, dag)\u001b[0m\n\u001b[0;32m   1037\u001b[0m     \u001b[39mpass\u001b[39;00m  \u001b[39m# Don't add to DAG -- the mapped task takes the place.\u001b[39;00m\n\u001b[0;32m   1038\u001b[0m \u001b[39melif\u001b[39;00m \u001b[39mself\u001b[39m\u001b[39m.\u001b[39mtask_id \u001b[39mnot\u001b[39;00m \u001b[39min\u001b[39;00m dag\u001b[39m.\u001b[39mtask_dict:\n\u001b[1;32m-> 1039\u001b[0m     dag\u001b[39m.\u001b[39;49madd_task(\u001b[39mself\u001b[39;49m)\n\u001b[0;32m   1040\u001b[0m \u001b[39melif\u001b[39;00m \u001b[39mself\u001b[39m\u001b[39m.\u001b[39mtask_id \u001b[39min\u001b[39;00m dag\u001b[39m.\u001b[39mtask_dict \u001b[39mand\u001b[39;00m dag\u001b[39m.\u001b[39mtask_dict[\u001b[39mself\u001b[39m\u001b[39m.\u001b[39mtask_id] \u001b[39mis\u001b[39;00m \u001b[39mnot\u001b[39;00m \u001b[39mself\u001b[39m:\n\u001b[0;32m   1041\u001b[0m     dag\u001b[39m.\u001b[39madd_task(\u001b[39mself\u001b[39m)\n",
      "File \u001b[1;32mc:\\Users\\11kik\\anaconda3\\envs\\airflow_project\\lib\\site-packages\\airflow\\models\\dag.py:2331\u001b[0m, in \u001b[0;36mDAG.add_task\u001b[1;34m(self, task)\u001b[0m\n\u001b[0;32m   2328\u001b[0m \u001b[39mfrom\u001b[39;00m \u001b[39mairflow\u001b[39;00m\u001b[39m.\u001b[39;00m\u001b[39mutils\u001b[39;00m\u001b[39m.\u001b[39;00m\u001b[39mtask_group\u001b[39;00m \u001b[39mimport\u001b[39;00m TaskGroupContext\n\u001b[0;32m   2330\u001b[0m \u001b[39mif\u001b[39;00m \u001b[39mnot\u001b[39;00m \u001b[39mself\u001b[39m\u001b[39m.\u001b[39mstart_date \u001b[39mand\u001b[39;00m \u001b[39mnot\u001b[39;00m task\u001b[39m.\u001b[39mstart_date:\n\u001b[1;32m-> 2331\u001b[0m     \u001b[39mraise\u001b[39;00m AirflowException(\u001b[39m\"\u001b[39m\u001b[39mDAG is missing the start_date parameter\u001b[39m\u001b[39m\"\u001b[39m)\n\u001b[0;32m   2332\u001b[0m \u001b[39m# if the task has no start date, assign it the same as the DAG\u001b[39;00m\n\u001b[0;32m   2333\u001b[0m \u001b[39melif\u001b[39;00m \u001b[39mnot\u001b[39;00m task\u001b[39m.\u001b[39mstart_date:\n",
      "\u001b[1;31mAirflowException\u001b[0m: DAG is missing the start_date parameter"
     ]
    }
   ],
   "source": [
    "# Define default_args for your DAG\n",
    "default_args = {\n",
    "    'owner': 'airflow',\n",
    "}\n",
    "\n",
    "# Instantiate a DAG object with an ID of 'my_dag'\n",
    "dag = DAG(\n",
    "    dag_id='my_dag',\n",
    "    default_args=default_args,\n",
    "    schedule_interval='@hourly',  # Run once every hour\n",
    ")\n",
    "\n",
    "# Create a PythonOperator task that calls your function\n",
    "task = PythonOperator(\n",
    "    task_id='print_time_and_store_in_db',\n",
    "    python_callable=print_time_and_store_in_db,\n",
    "    provide_context=True,\n",
    "    dag=dag,\n",
    ")"
   ]
  }
 ],
 "metadata": {
  "kernelspec": {
   "display_name": "airflow_project",
   "language": "python",
   "name": "python3"
  },
  "language_info": {
   "codemirror_mode": {
    "name": "ipython",
    "version": 3
   },
   "file_extension": ".py",
   "mimetype": "text/x-python",
   "name": "python",
   "nbconvert_exporter": "python",
   "pygments_lexer": "ipython3",
   "version": "3.10.9"
  },
  "orig_nbformat": 4
 },
 "nbformat": 4,
 "nbformat_minor": 2
}
