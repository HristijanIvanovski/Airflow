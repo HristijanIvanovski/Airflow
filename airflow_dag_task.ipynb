{
 "cells": [
  {
   "cell_type": "code",
   "execution_count": 13,
   "metadata": {},
   "outputs": [],
   "source": [
    "import warnings\n",
    "warnings.filterwarnings(\"ignore\", category=DeprecationWarning)\n",
    "\n",
    "from datetime import datetime\n",
    "from airflow import DAG\n",
    "from airflow.operators.python_operator import PythonOperator\n",
    "from sqlalchemy import create_engine"
   ]
  },
  {
   "cell_type": "code",
   "execution_count": 14,
   "metadata": {},
   "outputs": [],
   "source": [
    "# Set up the connection to the database\n",
    "engine = create_engine('sqlite:///mydatabase.db')\n",
    "\n",
    "def print_time_and_store_in_db(**kwargs):\n",
    "    # Get the current time and format it as a string\n",
    "    now = datetime.now()\n",
    "    formatted_time = now.strftime('%Y.%m.%d %H:%M:%S')\n",
    "    \n",
    "    # Print the current time\n",
    "    print(f'Current Time: {formatted_time}')\n",
    "    \n",
    "    # Store the current time in the database\n",
    "    job_number = kwargs['ti'].job_id.split('_')[-1]\n",
    "    query = f\"INSERT INTO mytable (job_number, job_output, job_executed_at) VALUES ({job_number}, '{formatted_time}', '{formatted_time}')\"\n",
    "    engine.execute(query)"
   ]
  },
  {
   "cell_type": "code",
   "execution_count": 16,
   "metadata": {},
   "outputs": [],
   "source": [
    "# Define default_args for your DAG\n",
    "default_args = {\n",
    "    'owner': 'airflow',\n",
    "    'start_date': datetime(2022, 1, 1)\n",
    "}\n",
    "\n",
    "# Instantiate a DAG object with an ID of 'my_dag'\n",
    "dag = DAG(\n",
    "    dag_id='my_dag',\n",
    "    default_args=default_args,\n",
    "    schedule_interval='@hourly',  # Run once every hour\n",
    ")\n",
    "\n",
    "# Create a PythonOperator task that calls your function\n",
    "task = PythonOperator(\n",
    "    task_id='print_time_and_store_in_db',\n",
    "    python_callable=print_time_and_store_in_db,\n",
    "    provide_context=True,\n",
    "    dag=dag,\n",
    ")"
   ]
  }
 ],
 "metadata": {
  "kernelspec": {
   "display_name": "airflow_project",
   "language": "python",
   "name": "python3"
  },
  "language_info": {
   "codemirror_mode": {
    "name": "ipython",
    "version": 3
   },
   "file_extension": ".py",
   "mimetype": "text/x-python",
   "name": "python",
   "nbconvert_exporter": "python",
   "pygments_lexer": "ipython3",
   "version": "3.10.9"
  },
  "orig_nbformat": 4
 },
 "nbformat": 4,
 "nbformat_minor": 2
}
